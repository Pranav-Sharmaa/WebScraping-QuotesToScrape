{
 "cells": [
  {
   "cell_type": "code",
   "execution_count": 1,
   "id": "7a9ed36b",
   "metadata": {},
   "outputs": [
    {
     "name": "stdout",
     "output_type": "stream",
     "text": [
      "Collecting bs4\n",
      "  Obtaining dependency information for bs4 from https://files.pythonhosted.org/packages/51/bb/bf7aab772a159614954d84aa832c129624ba6c32faa559dfb200a534e50b/bs4-0.0.2-py2.py3-none-any.whl.metadata\n",
      "  Downloading bs4-0.0.2-py2.py3-none-any.whl.metadata (411 bytes)\n",
      "Requirement already satisfied: beautifulsoup4 in c:\\users\\prana\\anaconda3\\lib\\site-packages (from bs4) (4.12.2)\n",
      "Requirement already satisfied: soupsieve>1.2 in c:\\users\\prana\\anaconda3\\lib\\site-packages (from beautifulsoup4->bs4) (2.4)\n",
      "Downloading bs4-0.0.2-py2.py3-none-any.whl (1.2 kB)\n",
      "Installing collected packages: bs4\n",
      "Successfully installed bs4-0.0.2\n"
     ]
    }
   ],
   "source": [
    "!pip install bs4"
   ]
  },
  {
   "cell_type": "code",
   "execution_count": 82,
   "id": "ca73a243",
   "metadata": {},
   "outputs": [],
   "source": [
    "from bs4 import BeautifulSoup\n",
    "import requests\n",
    "import pandas as pd\n",
    "from tqdm import tqdm #It is a Library that will show the progress"
   ]
  },
  {
   "cell_type": "code",
   "execution_count": 4,
   "id": "485fa83a",
   "metadata": {},
   "outputs": [],
   "source": [
    "link= \"https://quotes.toscrape.com/\""
   ]
  },
  {
   "cell_type": "code",
   "execution_count": 5,
   "id": "e12b7b1c",
   "metadata": {},
   "outputs": [],
   "source": [
    "res= requests.get(link)"
   ]
  },
  {
   "cell_type": "code",
   "execution_count": 8,
   "id": "cb717210",
   "metadata": {},
   "outputs": [],
   "source": [
    "soup=BeautifulSoup(res.text,'html.parser') \n",
    "#Here we will get text from the webpage in the form of html"
   ]
  },
  {
   "cell_type": "code",
   "execution_count": 31,
   "id": "c3e44d3c",
   "metadata": {},
   "outputs": [
    {
     "data": {
      "text/plain": [
       "'The world as we have created it is a process of our thinking. It cannot be changed without changing our thinking.'"
      ]
     },
     "execution_count": 31,
     "metadata": {},
     "output_type": "execute_result"
    }
   ],
   "source": [
    "soup.find(\"span\",class_=\"text\").text[1:-1]"
   ]
  },
  {
   "cell_type": "code",
   "execution_count": 32,
   "id": "95e7046a",
   "metadata": {},
   "outputs": [],
   "source": [
    "quotes=[]\n",
    "\n",
    "for quote in soup.find_all('span',class_=\"text\"):\n",
    "    quotes.append(quote.text[1:-1])\n",
    "    "
   ]
  },
  {
   "cell_type": "code",
   "execution_count": 33,
   "id": "e0bfd891",
   "metadata": {},
   "outputs": [
    {
     "data": {
      "text/plain": [
       "['The world as we have created it is a process of our thinking. It cannot be changed without changing our thinking.',\n",
       " 'It is our choices, Harry, that show what we truly are, far more than our abilities.',\n",
       " 'There are only two ways to live your life. One is as though nothing is a miracle. The other is as though everything is a miracle.',\n",
       " 'The person, be it gentleman or lady, who has not pleasure in a good novel, must be intolerably stupid.',\n",
       " \"Imperfection is beauty, madness is genius and it's better to be absolutely ridiculous than absolutely boring.\",\n",
       " 'Try not to become a man of success. Rather become a man of value.',\n",
       " 'It is better to be hated for what you are than to be loved for what you are not.',\n",
       " \"I have not failed. I've just found 10,000 ways that won't work.\",\n",
       " \"A woman is like a tea bag; you never know how strong it is until it's in hot water.\",\n",
       " 'A day without sunshine is like, you know, night.']"
      ]
     },
     "execution_count": 33,
     "metadata": {},
     "output_type": "execute_result"
    }
   ],
   "source": [
    "quotes"
   ]
  },
  {
   "cell_type": "markdown",
   "id": "ab8ecc55",
   "metadata": {},
   "source": [
    "# Extracting All The Details"
   ]
  },
  {
   "cell_type": "code",
   "execution_count": 67,
   "id": "1c5a4a4b",
   "metadata": {},
   "outputs": [],
   "source": [
    "data=[]\n",
    "\n",
    "for sp in soup.find_all(\"div\",class_=\"quote\"):\n",
    "    \n",
    "    quote=sp.find(\"span\",class_=\"text\").text[1:-1]\n",
    "    \n",
    "    author=sp.find(\"small\").text\n",
    "    \n",
    "    author_id=sp.find(\"a\").get(\"href\")\n",
    "    \n",
    "    tags=[]\n",
    "\n",
    "    for tag in sp.find_all(\"a\",class_=\"tag\"):\n",
    "        tags.append(tag.text)\n",
    "    tags=','.join(tags)\n",
    "    \n",
    "    \n",
    "    data.append([quote,author,author_id,tags])"
   ]
  },
  {
   "cell_type": "code",
   "execution_count": 76,
   "id": "fbe24365",
   "metadata": {},
   "outputs": [],
   "source": [
    "df=pd.DataFrame(data,columns=[\"Quote\",'Author','Author_id',\"tags\"])"
   ]
  },
  {
   "cell_type": "code",
   "execution_count": 81,
   "id": "b8319645",
   "metadata": {},
   "outputs": [],
   "source": [
    "df.to_csv(\"Quote.csv\",index= False)"
   ]
  },
  {
   "cell_type": "code",
   "execution_count": null,
   "id": "078182e8",
   "metadata": {},
   "outputs": [],
   "source": []
  }
 ],
 "metadata": {
  "kernelspec": {
   "display_name": "Python 3 (ipykernel)",
   "language": "python",
   "name": "python3"
  },
  "language_info": {
   "codemirror_mode": {
    "name": "ipython",
    "version": 3
   },
   "file_extension": ".py",
   "mimetype": "text/x-python",
   "name": "python",
   "nbconvert_exporter": "python",
   "pygments_lexer": "ipython3",
   "version": "3.11.5"
  }
 },
 "nbformat": 4,
 "nbformat_minor": 5
}
