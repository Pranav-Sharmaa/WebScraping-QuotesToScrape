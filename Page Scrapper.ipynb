{
 "cells": [
  {
   "cell_type": "code",
   "execution_count": 1,
   "id": "52087a42",
   "metadata": {},
   "outputs": [],
   "source": [
    "import requests"
   ]
  },
  {
   "cell_type": "code",
   "execution_count": 2,
   "id": "a38efede",
   "metadata": {},
   "outputs": [],
   "source": [
    "link=\"https://quotes.toscrape.com/\""
   ]
  },
  {
   "cell_type": "code",
   "execution_count": 3,
   "id": "ed9e3b88",
   "metadata": {},
   "outputs": [],
   "source": [
    "res=requests.get(link)"
   ]
  },
  {
   "cell_type": "code",
   "execution_count": 4,
   "id": "bc1de5e1",
   "metadata": {},
   "outputs": [],
   "source": [
    "html =res.text"
   ]
  },
  {
   "cell_type": "code",
   "execution_count": 7,
   "id": "b7633f44",
   "metadata": {
    "scrolled": true
   },
   "outputs": [],
   "source": [
    "# Open the file with UTF-8 encoding to handle Unicode characters\n",
    "with open('main.html', 'w', encoding='utf-8') as fd:\n",
    "    fd.write(html)"
   ]
  },
  {
   "cell_type": "code",
   "execution_count": null,
   "id": "3e86522b",
   "metadata": {},
   "outputs": [],
   "source": []
  }
 ],
 "metadata": {
  "kernelspec": {
   "display_name": "Python 3 (ipykernel)",
   "language": "python",
   "name": "python3"
  },
  "language_info": {
   "codemirror_mode": {
    "name": "ipython",
    "version": 3
   },
   "file_extension": ".py",
   "mimetype": "text/x-python",
   "name": "python",
   "nbconvert_exporter": "python",
   "pygments_lexer": "ipython3",
   "version": "3.11.5"
  }
 },
 "nbformat": 4,
 "nbformat_minor": 5
}
